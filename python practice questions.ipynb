{
 "cells": [
  {
   "cell_type": "code",
   "execution_count": 1,
   "id": "0e245e9f",
   "metadata": {},
   "outputs": [
    {
     "name": "stdout",
     "output_type": "stream",
     "text": [
      "True\n"
     ]
    }
   ],
   "source": [
    "# 1.How do you check if a Python string contains another string?\n",
    "\n",
    "str=\"Hello, World!\"\n",
    "print(\"World\" in str)"
   ]
  },
  {
   "cell_type": "code",
   "execution_count": 2,
   "id": "084dba5e",
   "metadata": {},
   "outputs": [
    {
     "name": "stdout",
     "output_type": "stream",
     "text": [
      "dlroW olleH\n"
     ]
    }
   ],
   "source": [
    "# 2.How do you reverse a string in Python?\n",
    "\n",
    "txt = \"Hello World\"[::-1]\n",
    "print(txt)"
   ]
  },
  {
   "cell_type": "code",
   "execution_count": 3,
   "id": "b17958aa",
   "metadata": {},
   "outputs": [
    {
     "name": "stdout",
     "output_type": "stream",
     "text": [
      "['Red', 'Blue', 'Green', 'Black']\n",
      "['Red', 'Blue', 'Green', 'Black', 'Yellow']\n"
     ]
    }
   ],
   "source": [
    "# 3.How would you add an item to the end of the list?\n",
    "\n",
    "color_list=[\"Red\", \"Blue\", \"Green\", \"Black\"]\n",
    "print(color_list)\n",
    "color_list.append(\"Yellow\")\n",
    "print(color_list)"
   ]
  },
  {
   "cell_type": "code",
   "execution_count": 4,
   "id": "d4bb0a63",
   "metadata": {},
   "outputs": [
    {
     "name": "stdout",
     "output_type": "stream",
     "text": [
      "HelloWorld\n"
     ]
    }
   ],
   "source": [
    "# 4. How would you concatenate a string?\n",
    "\n",
    "a = \"Hello\"\n",
    "b = \"World\"\n",
    "c = a + b\n",
    "print(c)"
   ]
  },
  {
   "cell_type": "code",
   "execution_count": 5,
   "id": "1402d09f",
   "metadata": {},
   "outputs": [
    {
     "name": "stdout",
     "output_type": "stream",
     "text": [
      "[2 3 4 5]\n"
     ]
    }
   ],
   "source": [
    "# 5. How would you perform Numpy array slicing?\n",
    "\n",
    "import numpy as np\n",
    "arr = np.array([1, 2, 3, 4, 5, 6, 7])\n",
    "print(arr[1:5])"
   ]
  },
  {
   "cell_type": "code",
   "execution_count": 6,
   "id": "f1a1c04b",
   "metadata": {},
   "outputs": [],
   "source": [
    "# 6. Who created python?\n",
    "\n",
    "#Python is an interpreted, high-level, general-purpose programming language.\n",
    "#Python was created by Guido van Rossum"
   ]
  },
  {
   "cell_type": "code",
   "execution_count": 7,
   "id": "2ef67018",
   "metadata": {},
   "outputs": [],
   "source": [
    "# 7. When was python created?\n",
    "\n",
    "# Python was conceived in the late 1980s as a successor to the ABC language\n",
    "# The first version was releases in 1991\n",
    "# Python 2.0 was released in 2000\n",
    "# Python 3.0 was released in 2008"
   ]
  },
  {
   "cell_type": "code",
   "execution_count": 8,
   "id": "e9469182",
   "metadata": {},
   "outputs": [],
   "source": [
    "#  8. What are the built-in type does python provides?\n",
    "\n",
    "# List, set, dictionary, string, tuples, number."
   ]
  },
  {
   "cell_type": "code",
   "execution_count": 9,
   "id": "c75c5d13",
   "metadata": {},
   "outputs": [],
   "source": [
    "# 9. What is pass in Python?\n",
    "\n",
    "# Pass means, no-operation Python statement.\n",
    "# It is a place holder in compound statement, where nothing has to be written."
   ]
  },
  {
   "cell_type": "code",
   "execution_count": 10,
   "id": "da30a18c",
   "metadata": {},
   "outputs": [],
   "source": [
    "# 10. What is slicing?\n",
    "\n",
    "# A mechanism to select a range of items from sequence types like list, tuple, strings etc. is known as slicing."
   ]
  },
  {
   "cell_type": "code",
   "execution_count": null,
   "id": "6d961c9e",
   "metadata": {},
   "outputs": [],
   "source": []
  }
 ],
 "metadata": {
  "kernelspec": {
   "display_name": "Python 3",
   "language": "python",
   "name": "python3"
  },
  "language_info": {
   "codemirror_mode": {
    "name": "ipython",
    "version": 3
   },
   "file_extension": ".py",
   "mimetype": "text/x-python",
   "name": "python",
   "nbconvert_exporter": "python",
   "pygments_lexer": "ipython3",
   "version": "3.8.8"
  }
 },
 "nbformat": 4,
 "nbformat_minor": 5
}
